{
 "cells": [
  {
   "cell_type": "markdown",
   "id": "5b4a67ce-a8ba-4ac3-9a68-d7086903f147",
   "metadata": {},
   "source": [
    "# Data Science Tools and Ecosystem\n"
   ]
  },
  {
   "cell_type": "markdown",
   "id": "e5845224-a441-4377-8552-e5e53e6780b7",
   "metadata": {},
   "source": [
    "## Introduction\n",
    "In this notebook, Data Science Tools and Ecosystem are summarized."
   ]
  },
  {
   "cell_type": "markdown",
   "id": "3cb6d9fa-adb0-4327-b693-0eb629cef92c",
   "metadata": {},
   "source": [
    "Some of the popular languages that Data Scientists use are:\n",
    "1. Python\n",
    "2. R\n",
    "3. SQL"
   ]
  },
  {
   "cell_type": "markdown",
   "id": "81368c9d-c2e2-4894-9925-9b3a6dce96c5",
   "metadata": {},
   "source": [
    "Some of the commonly used libraries used by Data Scientists include:\n",
    "1. Scientific Libaries\n",
    "    1. Pandas\n",
    "    2. Numpy\n",
    "2. Visualization Libaries\n",
    "    1. Matplotlib\n",
    "    2. Seaborn\n",
    "3. Machine Learning\n",
    "    1. Scikit-learn\n",
    "    2. Keras\n",
    "4. Deep Learing\n",
    "    1. TensorFlow\n",
    "    2. Pytorch"
   ]
  },
  {
   "cell_type": "markdown",
   "id": "970ed851-de8a-4ce4-9e59-0fb8ff83bb1e",
   "metadata": {},
   "source": [
    "| Data Science Tools|\n",
    "| ----------------|\n",
    "| Apache Hadoop|\n",
    "| Apache Superset|\n",
    "| Apache Spark|\n"
   ]
  },
  {
   "cell_type": "markdown",
   "id": "f2c18852-c056-4aee-a7d4-195022868f39",
   "metadata": {},
   "source": [
    "### Below are a few examples of evaluating arithmetic expressions in Python"
   ]
  },
  {
   "cell_type": "code",
   "execution_count": 4,
   "id": "4843b3ea-8a39-4a0e-9cdd-2d22f55280de",
   "metadata": {},
   "outputs": [
    {
     "data": {
      "text/plain": [
       "17"
      ]
     },
     "execution_count": 4,
     "metadata": {},
     "output_type": "execute_result"
    }
   ],
   "source": [
    "#This a simple arithmetic expression to multiply then add integers\n",
    "(3*4)+5"
   ]
  },
  {
   "cell_type": "code",
   "execution_count": 12,
   "id": "7a321770-e026-4974-9978-e174f2a23fbd",
   "metadata": {},
   "outputs": [
    {
     "name": "stdout",
     "output_type": "stream",
     "text": [
      "3 hrs 20 mins\n"
     ]
    }
   ],
   "source": [
    "#This will convert 200 minutes to hours by diving by 60\n",
    "min=200\n",
    "hour=min//60\n",
    "mins=min%60\n",
    "print(hour,\"hrs\",mins,\"mins\")"
   ]
  },
  {
   "cell_type": "markdown",
   "id": "6c49bda8-47c6-4f75-a424-b3503bce8258",
   "metadata": {},
   "source": [
    "**Objectives**\n",
    "- Python\n",
    "- R\n",
    "- Github\n",
    "- Anaconda\n",
    "- Juypter Notebook "
   ]
  },
  {
   "cell_type": "markdown",
   "id": "a8eee9f5-effe-4ab2-bb36-edf99ad44bdf",
   "metadata": {},
   "source": [
    "## Author\n",
    "Keerthana"
   ]
  },
  {
   "cell_type": "code",
   "execution_count": null,
   "id": "4f96ee92-3511-4165-b311-4df39f2e0ddd",
   "metadata": {},
   "outputs": [],
   "source": []
  }
 ],
 "metadata": {
  "kernelspec": {
   "display_name": "Python 3 (ipykernel)",
   "language": "python",
   "name": "python3"
  },
  "language_info": {
   "codemirror_mode": {
    "name": "ipython",
    "version": 3
   },
   "file_extension": ".py",
   "mimetype": "text/x-python",
   "name": "python",
   "nbconvert_exporter": "python",
   "pygments_lexer": "ipython3",
   "version": "3.12.8"
  }
 },
 "nbformat": 4,
 "nbformat_minor": 5
}
